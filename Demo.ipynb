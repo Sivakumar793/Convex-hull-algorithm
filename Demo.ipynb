{
 "cells": [
  {
   "cell_type": "markdown",
   "metadata": {},
   "source": [
    "## Demo and Test"
   ]
  },
  {
   "cell_type": "markdown",
   "metadata": {},
   "source": [
    "#### In this part, we test the Convext Hull 2D for some cases"
   ]
  },
  {
   "cell_type": "code",
   "execution_count": 1,
   "metadata": {},
   "outputs": [],
   "source": [
    "from ConvexHull import ConvexHull2D \n",
    "import numpy as np\n",
    "model = ConvexHull2D()"
   ]
  },
  {
   "cell_type": "markdown",
   "metadata": {},
   "source": [
    "###  Test One: Invalid. input"
   ]
  },
  {
   "cell_type": "code",
   "execution_count": 2,
   "metadata": {},
   "outputs": [
    {
     "name": "stdout",
     "output_type": "stream",
     "text": [
      "No valid convex hull is found! Please provide more than 3 unique points\n"
     ]
    }
   ],
   "source": [
    "points = None\n",
    "model(points)"
   ]
  },
  {
   "cell_type": "markdown",
   "metadata": {},
   "source": [
    "###  Test Two: Invalid. input"
   ]
  },
  {
   "cell_type": "code",
   "execution_count": 3,
   "metadata": {},
   "outputs": [
    {
     "name": "stdout",
     "output_type": "stream",
     "text": [
      "No valid convex hull is found! Please provide more than 3 unique points\n"
     ]
    }
   ],
   "source": [
    "points = np.array([])\n",
    "model(points)"
   ]
  },
  {
   "cell_type": "markdown",
   "metadata": {},
   "source": [
    "###  Test Three: Invalid. input (insufficent amount of points)"
   ]
  },
  {
   "cell_type": "code",
   "execution_count": 12,
   "metadata": {},
   "outputs": [
    {
     "name": "stdout",
     "output_type": "stream",
     "text": [
      "No valid convex hull is found! Please provide more than 3 unique points\n"
     ]
    }
   ],
   "source": [
    "points = np.array([[1,2], [-4.9, 0.73]])\n",
    "model(points)"
   ]
  },
  {
   "cell_type": "markdown",
   "metadata": {},
   "source": [
    "###  Test Four: Invalid. input (points are actually on the same line)"
   ]
  },
  {
   "cell_type": "code",
   "execution_count": 13,
   "metadata": {},
   "outputs": [
    {
     "name": "stdout",
     "output_type": "stream",
     "text": [
      "<class 'Exception'>\n",
      "('The input points are located on the same line. No convex hull is found!',)\n",
      "<class 'Exception'>\n",
      "('Not enough points are found for convex hull. Please check your input and other information',)\n",
      "\n",
      "The vertices of convex hull are\n",
      "\n",
      "None\n"
     ]
    }
   ],
   "source": [
    "points = np.array([[1,2], [1, 3], [1,4]])\n",
    "convex_hull = model(points)\n",
    "print (\"\\nThe vertices of convex hull are\\n\")\n",
    "print (convex_hull)"
   ]
  },
  {
   "cell_type": "markdown",
   "metadata": {},
   "source": [
    "###  Test Five: Simple case"
   ]
  },
  {
   "cell_type": "code",
   "execution_count": 5,
   "metadata": {},
   "outputs": [
    {
     "data": {
      "text/plain": [
       "array([[-4.9 ,  0.73],\n",
       "       [ 0.  ,  0.  ],\n",
       "       [ 1.  ,  2.  ]])"
      ]
     },
     "execution_count": 5,
     "metadata": {},
     "output_type": "execute_result"
    }
   ],
   "source": [
    "points = np.array([[0,0], [1,2], [-4.9, 0.73]])\n",
    "model(points)"
   ]
  },
  {
   "cell_type": "markdown",
   "metadata": {},
   "source": [
    "###  Test Six: General case"
   ]
  },
  {
   "cell_type": "code",
   "execution_count": 10,
   "metadata": {},
   "outputs": [
    {
     "name": "stdout",
     "output_type": "stream",
     "text": [
      "The vertices of convex hull are\n",
      "[[-30.34478464 -25.49434852]\n",
      " [-28.80982052 -27.97168969]\n",
      " [-27.03556445 -29.62912708]\n",
      " [-21.92438044 -32.46525418]\n",
      " [ 21.12174928 -33.42353813]\n",
      " [ 49.75244411 -28.84468783]\n",
      " [ 65.68061666   4.33814033]\n",
      " [ 61.89855911  49.91768006]\n",
      " [ 44.16177304  65.88208679]\n",
      " [-33.12044019  65.10176138]\n",
      " [-33.15281795   5.67249395]]\n"
     ]
    },
    {
     "data": {
      "image/png": "[encoded data removed]",
      "text/plain": [
       "<Figure size 432x288 with 1 Axes>"
      ]
     },
     "metadata": {
      "needs_background": "light"
     },
     "output_type": "display_data"
    }
   ],
   "source": [
    "import matplotlib.pyplot as plt\n",
    "\n",
    "points = np.random.random((100,2)) * 100 #draw from normal distribution and scale it\n",
    "points -= np.random.random() * 100 # test points with positive and negative coordinates\n",
    "plt.plot(points[:,0], points[:,1], 'o')\n",
    "\n",
    "convex_hull = model(points)\n",
    "print (\"The vertices of convex hull are\")\n",
    "print (convex_hull)\n",
    "\n",
    "#Close the hull during plot by making the head and tail as the same point\n",
    "convex_hull = np.vstack([convex_hull, convex_hull[0]])\n",
    "plt.plot(convex_hull[:,0], convex_hull[:,1])\n",
    "plt.show()"
   ]
  },
  {
   "cell_type": "markdown",
   "metadata": {},
   "source": [
    "###  Test Seven: Given a test set of points, check if they are inside the convex hull"
   ]
  },
  {
   "cell_type": "code",
   "execution_count": 7,
   "metadata": {},
   "outputs": [
    {
     "name": "stdout",
     "output_type": "stream",
     "text": [
      "The vertices of convex hull are\n",
      "\n",
      "[[-24.43333595 -10.16025703]\n",
      " [-18.28298976 -18.63656776]\n",
      " [-14.7729698  -21.6422585 ]\n",
      " [  1.32096596 -23.79991096]\n",
      " [ 56.0300138  -23.88969908]\n",
      " [ 70.7858042  -20.71260849]\n",
      " [ 74.88493107  39.03853099]\n",
      " [ 70.62610472  73.48114179]\n",
      " [  4.64657323  74.66695145]\n",
      " [-23.28574506  68.39594002]\n",
      " [-24.08897784  57.55102279]]\n",
      "\n",
      "\n",
      "Testing the model with random test set\n",
      "point:  [71.93988592 55.35013509]  status:  True\n",
      "point:  [ 6.29908119 26.5605536 ]  status:  True\n",
      "point:  [66.47244996 61.7487539 ]  status:  True\n",
      "point:  [ 5.38516047 18.65902789]  status:  True\n",
      "point:  [15.64034429  6.01978347]  status:  True\n",
      "point:  [58.91889175 13.6917658 ]  status:  True\n",
      "point:  [16.38792149 64.03859936]  status:  True\n",
      "point:  [20.88248563 41.23138062]  status:  True\n",
      "point:  [34.69632593 71.56028955]  status:  True\n",
      "point:  [ 6.76041777 87.9044422 ]  status:  False\n"
     ]
    },
    {
     "data": {
      "image/png": "[encoded data removed]",
      "text/plain": [
       "<Figure size 432x288 with 1 Axes>"
      ]
     },
     "metadata": {
      "needs_background": "light"
     },
     "output_type": "display_data"
    }
   ],
   "source": [
    "import matplotlib.pyplot as plt\n",
    "\n",
    "points = np.random.random((100,2)) * 100 #draw from normal distribution and scale it\n",
    "points -= np.random.random() * 100 # test points with positive and negative coordinates\n",
    "test_points = np.random.random((10,2)) * 100\n",
    "\n",
    "plt.plot(points[:,0], points[:,1], 'o')\n",
    "plt.plot(test_points[:,0], test_points[:,1], 'ro')\n",
    "convex_hull = model(points)\n",
    "print (\"The vertices of convex hull are\\n\")\n",
    "print (convex_hull)\n",
    "\n",
    "#Close the hull during plot by making the head and tail as the same point\n",
    "convex_hull = np.vstack([convex_hull, convex_hull[0]])\n",
    "plt.plot(convex_hull[:,0], convex_hull[:,1])\n",
    "\n",
    "isInside = model.isInside(test_points)\n",
    "print (\"\\n\")\n",
    "print (\"Testing the model with random test set\")\n",
    "for point, status in zip(test_points, isInside):\n",
    "    print(\"point: \", point, \" status: \", status )\n",
    "\n",
    "plt.show()"
   ]
  }
 ],
 "metadata": {
  "kernelspec": {
   "display_name": "Python 3",
   "language": "python",
   "name": "python3"
  },
  "language_info": {
   "codemirror_mode": {
    "name": "ipython",
    "version": 3
   },
   "file_extension": ".py",
   "mimetype": "text/x-python",
   "name": "python",
   "nbconvert_exporter": "python",
   "pygments_lexer": "ipython3",
   "version": "3.6.5"
  }
 },
 "nbformat": 4,
 "nbformat_minor": 2
}
